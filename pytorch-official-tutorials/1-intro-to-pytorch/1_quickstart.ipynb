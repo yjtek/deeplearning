{
 "cells": [
  {
   "cell_type": "markdown",
   "id": "0d51161e",
   "metadata": {},
   "source": [
    "## Handling Data"
   ]
  },
  {
   "cell_type": "markdown",
   "id": "d5c63428",
   "metadata": {},
   "source": [
    "- Pytorch uses 2 primitives to work with data: either you provide a `torch.utils.data.DataLoader`, or `torch.utils.data.Dataset`\n",
    "\n",
    "- What is the difference between `Dataloader` and `Dataset`? \n",
    "    - A `Dataset` simply stores samples and their labels\n",
    "    - A `Dataloader` wraps an Iterable around a `Dataset`, this lets you conveniently yield batches from your data\n",
    "\n",
    "- Note that Pytorch is subdivided in to domain-specific libraries (TorchText, TorchVision, and TorchAudio), and some things (like particularly datasets) should be retrieved from these modules\n",
    "\n",
    "- Let's see an example of `Dataset` / `DataLoader` at work using FashionMNIST dataset\n",
    "\n",
    "- Note that all `Dataset` objects includes 2 arguments; `transform` and `target_transform`\n",
    "    - This lets you transform any data you wish to load, and can take in anything from `torchvision.transforms`\n",
    "    - For example, if you want to rotate every picture in the dataset, you can pass in `RandomRotation`"
   ]
  },
  {
   "cell_type": "code",
   "execution_count": 1,
   "id": "bd3adbc0",
   "metadata": {},
   "outputs": [],
   "source": [
    "import torch\n",
    "from torch import nn\n",
    "from torch.utils.data import DataLoader\n",
    "from torchvision import datasets\n",
    "from torchvision.transforms import ToTensor"
   ]
  },
  {
   "cell_type": "code",
   "execution_count": 2,
   "id": "d7bc66da",
   "metadata": {},
   "outputs": [
    {
     "data": {
      "text/plain": [
       "(torch.Size([60000, 28, 28]),\n",
       " torch.Size([60000]),\n",
       " torch.Size([10000, 28, 28]),\n",
       " torch.Size([10000]))"
      ]
     },
     "execution_count": 2,
     "metadata": {},
     "output_type": "execute_result"
    }
   ],
   "source": [
    "# Download training data from open datasets.\n",
    "training_data = datasets.FashionMNIST(\n",
    "    root=\"data\",\n",
    "    train=True,\n",
    "    download=False,\n",
    "    transform=ToTensor()\n",
    ")\n",
    "\n",
    "# Download test data from open datasets.\n",
    "test_data = datasets.FashionMNIST(\n",
    "    root=\"data\",\n",
    "    train=False,\n",
    "    download=False,\n",
    "    transform=ToTensor(),\n",
    ")\n",
    "\n",
    "training_data.data.shape, training_data.targets.shape, test_data.data.shape, test_data.targets.shape"
   ]
  },
  {
   "cell_type": "markdown",
   "id": "c074addb",
   "metadata": {},
   "source": [
    "- After downloading the necessary data as a `Dataset`, we can wrap it into a `DataLoader`, which will conveniently help us batch the data later"
   ]
  },
  {
   "cell_type": "code",
   "execution_count": 3,
   "id": "22643fcb",
   "metadata": {},
   "outputs": [
    {
     "name": "stdout",
     "output_type": "stream",
     "text": [
      "Shape of X [N, C, H, W]: torch.Size([64, 1, 28, 28])\n",
      "Shape of y: torch.Size([64]) torch.int64\n"
     ]
    }
   ],
   "source": [
    "batch_size = 64\n",
    "\n",
    "train_dataloader = DataLoader(training_data, batch_size=batch_size)\n",
    "test_dataloader = DataLoader(test_data, batch_size=batch_size)\n",
    "\n",
    "for X, y in test_dataloader:\n",
    "    print(f\"Shape of X [N, C, H, W]: {X.shape}\")\n",
    "    print(f\"Shape of y: {y.shape} {y.dtype}\")\n",
    "    break"
   ]
  },
  {
   "cell_type": "markdown",
   "id": "645ef646",
   "metadata": {},
   "source": [
    "## Creating Models"
   ]
  },
  {
   "cell_type": "markdown",
   "id": "d008a862",
   "metadata": {},
   "source": [
    "- Any neural network in Pytorch can be defined as a class inheriting from `nn.Module`\n",
    "\n",
    "- Define the layers in `__init__`, and specify how the data passes through the network by defining a method called `forward()`\n",
    "\n",
    "- We can also speed up training by moving the operations to accelerators like CUDA, MPS, etc"
   ]
  },
  {
   "cell_type": "code",
   "execution_count": 5,
   "id": "809651f2",
   "metadata": {},
   "outputs": [
    {
     "name": "stdout",
     "output_type": "stream",
     "text": [
      "Using mps device\n"
     ]
    }
   ],
   "source": [
    "## Check for accelerator\n",
    "device = torch.accelerator.current_accelerator().type if torch.accelerator.is_available() else \"cpu\"\n",
    "print(f\"Using {device} device\")"
   ]
  },
  {
   "cell_type": "code",
   "execution_count": 7,
   "id": "6e8fd94d",
   "metadata": {},
   "outputs": [
    {
     "name": "stdout",
     "output_type": "stream",
     "text": [
      "SomeNNModel(\n",
      "  (flatten): Flatten(start_dim=1, end_dim=-1)\n",
      "  (linear_relu_stack): Sequential(\n",
      "    (0): Linear(in_features=784, out_features=512, bias=True)\n",
      "    (1): ReLU()\n",
      "    (2): Linear(in_features=512, out_features=512, bias=True)\n",
      "    (3): ReLU()\n",
      "    (4): Linear(in_features=512, out_features=10, bias=True)\n",
      "  )\n",
      ")\n"
     ]
    }
   ],
   "source": [
    "# Define model\n",
    "class SomeNNModel(nn.Module):\n",
    "    def __init__(self):\n",
    "        super().__init__()\n",
    "        self.flatten = nn.Flatten()\n",
    "        self.linear_relu_stack = nn.Sequential(\n",
    "            nn.Linear(28*28, 512),\n",
    "            nn.ReLU(),\n",
    "            nn.Linear(512, 512),\n",
    "            nn.ReLU(),\n",
    "            nn.Linear(512, 10)\n",
    "        )\n",
    "\n",
    "    def forward(self, x):\n",
    "        x = self.flatten(x) ##each image is 28x28; flatten will create a 1x784 tensor\n",
    "        logits = self.linear_relu_stack(x) ## 1x784 --> 512 --> 512 --> 10\n",
    "        return logits\n",
    "    \n",
    "model = SomeNNModel().to(device)\n",
    "print(model)"
   ]
  },
  {
   "cell_type": "markdown",
   "id": "7323a7d9",
   "metadata": {},
   "source": [
    "## Define training"
   ]
  },
  {
   "cell_type": "markdown",
   "id": "4d68dd49",
   "metadata": {},
   "source": [
    "- Obviously for training, we need a loss function and an optimiser"
   ]
  },
  {
   "cell_type": "code",
   "execution_count": 12,
   "id": "0822a46b",
   "metadata": {},
   "outputs": [],
   "source": [
    "loss_fn = nn.CrossEntropyLoss()\n",
    "optimizer = torch.optim.SGD(model.parameters(), lr=1e-3)"
   ]
  },
  {
   "cell_type": "markdown",
   "id": "043db79a",
   "metadata": {},
   "source": [
    "- Within a single loop, model does some prediction on a training dataset, and backpropagates the errors to the weights of the defined network\n",
    "- Note that we do batch gradient descent, so errors are propagated by batch"
   ]
  },
  {
   "cell_type": "code",
   "execution_count": 33,
   "id": "9938bd64",
   "metadata": {},
   "outputs": [],
   "source": [
    "def train(dataloader: DataLoader, model: nn.Module, loss_fn: nn.modules.loss._Loss, optimizer: torch.optim.Optimizer):\n",
    "    size = len(dataloader.dataset)\n",
    "    model.train()\n",
    "    for batch, (X, y) in enumerate(dataloader):\n",
    "        X, y = X.to(device), y.to(device)\n",
    "\n",
    "        # Compute prediction error\n",
    "        pred = model(X)\n",
    "        loss = loss_fn(pred, y)\n",
    "\n",
    "        # Backpropagation\n",
    "        loss.backward()\n",
    "        optimizer.step()\n",
    "        optimizer.zero_grad()\n",
    "\n",
    "        if batch % 100 == 0:\n",
    "            loss, current = loss.item(), (batch + 1) * len(X)\n",
    "            print(f\"loss: {loss:>7f}  [{current:>5d}/{size:>5d}]\")\n",
    "\n",
    "def test(dataloader: DataLoader, model: nn.Module, loss_fn: nn.modules.loss._Loss):\n",
    "    size: int = len(dataloader.dataset)\n",
    "    num_batches = len(dataloader)\n",
    "    model.eval()\n",
    "    test_loss, correct = 0, 0\n",
    "    with torch.no_grad():\n",
    "        for X, y in dataloader:\n",
    "            X, y = X.to(device), y.to(device)\n",
    "            pred = model(X)\n",
    "            test_loss += loss_fn(pred, y).item()\n",
    "            correct += (pred.argmax(1) == y).type(torch.float).sum().item()\n",
    "    test_loss /= num_batches\n",
    "    correct /= size\n",
    "    print(f\"Test Error: \\n Accuracy: {(100*correct):>0.1f}%, Avg loss: {test_loss:>8f} \\n\")"
   ]
  },
  {
   "cell_type": "code",
   "execution_count": 34,
   "id": "88a1dbad",
   "metadata": {},
   "outputs": [
    {
     "name": "stdout",
     "output_type": "stream",
     "text": [
      "Epoch 1\n",
      "-------------------------------\n",
      "loss: 1.171445  [   64/60000]\n",
      "loss: 1.177361  [ 6464/60000]\n",
      "loss: 0.985070  [12864/60000]\n",
      "loss: 1.122904  [19264/60000]\n",
      "loss: 0.996325  [25664/60000]\n",
      "loss: 1.037012  [32064/60000]\n",
      "loss: 1.069192  [38464/60000]\n",
      "loss: 0.994386  [44864/60000]\n",
      "loss: 1.046145  [51264/60000]\n",
      "loss: 0.977417  [57664/60000]\n",
      "Test Error: \n",
      " Accuracy: 65.5%, Avg loss: 0.991729 \n",
      "\n",
      "Epoch 2\n",
      "-------------------------------\n",
      "loss: 1.052362  [   64/60000]\n",
      "loss: 1.081412  [ 6464/60000]\n",
      "loss: 0.871363  [12864/60000]\n",
      "loss: 1.031978  [19264/60000]\n",
      "loss: 0.908925  [25664/60000]\n",
      "loss: 0.943146  [32064/60000]\n",
      "loss: 0.992583  [38464/60000]\n",
      "loss: 0.919872  [44864/60000]\n",
      "loss: 0.967884  [51264/60000]\n",
      "loss: 0.912225  [57664/60000]\n",
      "Test Error: \n",
      " Accuracy: 66.5%, Avg loss: 0.919485 \n",
      "\n",
      "Epoch 3\n",
      "-------------------------------\n",
      "loss: 0.964088  [   64/60000]\n",
      "loss: 1.014399  [ 6464/60000]\n",
      "loss: 0.788947  [12864/60000]\n",
      "loss: 0.967344  [19264/60000]\n",
      "loss: 0.850247  [25664/60000]\n",
      "loss: 0.872997  [32064/60000]\n",
      "loss: 0.938371  [38464/60000]\n",
      "loss: 0.869411  [44864/60000]\n",
      "loss: 0.910624  [51264/60000]\n",
      "loss: 0.864757  [57664/60000]\n",
      "Test Error: \n",
      " Accuracy: 67.7%, Avg loss: 0.866890 \n",
      "\n",
      "Epoch 4\n",
      "-------------------------------\n",
      "loss: 0.895869  [   64/60000]\n",
      "loss: 0.963516  [ 6464/60000]\n",
      "loss: 0.726757  [12864/60000]\n",
      "loss: 0.918755  [19264/60000]\n",
      "loss: 0.808370  [25664/60000]\n",
      "loss: 0.819348  [32064/60000]\n",
      "loss: 0.897350  [38464/60000]\n",
      "loss: 0.834012  [44864/60000]\n",
      "loss: 0.867437  [51264/60000]\n",
      "loss: 0.828249  [57664/60000]\n",
      "Test Error: \n",
      " Accuracy: 68.8%, Avg loss: 0.826790 \n",
      "\n",
      "Epoch 5\n",
      "-------------------------------\n",
      "loss: 0.841329  [   64/60000]\n",
      "loss: 0.922359  [ 6464/60000]\n",
      "loss: 0.678285  [12864/60000]\n",
      "loss: 0.880710  [19264/60000]\n",
      "loss: 0.776656  [25664/60000]\n",
      "loss: 0.777590  [32064/60000]\n",
      "loss: 0.864155  [38464/60000]\n",
      "loss: 0.808153  [44864/60000]\n",
      "loss: 0.833774  [51264/60000]\n",
      "loss: 0.798919  [57664/60000]\n",
      "Test Error: \n",
      " Accuracy: 70.3%, Avg loss: 0.794916 \n",
      "\n",
      "Done!\n"
     ]
    }
   ],
   "source": [
    "epochs = 5\n",
    "for t in range(epochs):\n",
    "    print(f\"Epoch {t+1}\\n-------------------------------\")\n",
    "    train(train_dataloader, model, loss_fn, optimizer)\n",
    "    test(test_dataloader, model, loss_fn)\n",
    "print(\"Done!\")"
   ]
  },
  {
   "cell_type": "markdown",
   "id": "e74d5948",
   "metadata": {},
   "source": [
    "## Save, Load, and Apply Models"
   ]
  },
  {
   "cell_type": "code",
   "execution_count": null,
   "id": "85a2ca58",
   "metadata": {},
   "outputs": [],
   "source": [
    "torch.save(model.state_dict(), \"model.pth\")\n",
    "print(\"Saved PyTorch Model State to model.pth\")"
   ]
  },
  {
   "cell_type": "code",
   "execution_count": null,
   "id": "8fc4d3e1",
   "metadata": {},
   "outputs": [],
   "source": [
    "model = SomeNNModel().to(device)\n",
    "model.load_state_dict(torch.load(\"model.pth\", weights_only=True))"
   ]
  },
  {
   "cell_type": "code",
   "execution_count": null,
   "id": "0cb12d7b",
   "metadata": {},
   "outputs": [],
   "source": [
    "classes = [\n",
    "    \"T-shirt/top\",\n",
    "    \"Trouser\",\n",
    "    \"Pullover\",\n",
    "    \"Dress\",\n",
    "    \"Coat\",\n",
    "    \"Sandal\",\n",
    "    \"Shirt\",\n",
    "    \"Sneaker\",\n",
    "    \"Bag\",\n",
    "    \"Ankle boot\",\n",
    "]\n",
    "\n",
    "model.eval()\n",
    "x, y = test_data[0][0], test_data[0][1]\n",
    "with torch.no_grad():\n",
    "    x = x.to(device)\n",
    "    pred = model(x)\n",
    "    predicted, actual = classes[pred[0].argmax(0)], classes[y]\n",
    "    print(f'Predicted: \"{predicted}\", Actual: \"{actual}\"')"
   ]
  }
 ],
 "metadata": {
  "kernelspec": {
   "display_name": ".venv",
   "language": "python",
   "name": "python3"
  },
  "language_info": {
   "codemirror_mode": {
    "name": "ipython",
    "version": 3
   },
   "file_extension": ".py",
   "mimetype": "text/x-python",
   "name": "python",
   "nbconvert_exporter": "python",
   "pygments_lexer": "ipython3",
   "version": "3.11.10"
  }
 },
 "nbformat": 4,
 "nbformat_minor": 5
}
