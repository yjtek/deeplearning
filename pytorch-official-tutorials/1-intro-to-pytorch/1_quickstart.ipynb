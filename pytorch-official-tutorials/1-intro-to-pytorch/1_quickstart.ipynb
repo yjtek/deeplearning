{
 "cells": [
  {
   "cell_type": "markdown",
   "id": "0d51161e",
   "metadata": {},
   "source": [
    "## Handling Data"
   ]
  },
  {
   "cell_type": "markdown",
   "id": "d5c63428",
   "metadata": {},
   "source": [
    "- Pytorch uses 2 primitives to work with data: either you provide a `torch.utils.data.DataLoader`, or `torch.utils.data.Dataset`\n",
    "\n",
    "- What is the difference between `Dataloader` and `Dataset`? \n",
    "    - A `Dataset` simply stores samples and their labels\n",
    "    - A `Dataloader` wraps an Iterable around a `Dataset`, this lets you conveniently yield batches from your data\n",
    "\n",
    "- Note that Pytorch is subdivided in to domain-specific libraries (TorchText, TorchVision, and TorchAudio), and some things (like particularly datasets) should be retrieved from these modules\n",
    "\n",
    "- Let's see an example of `Dataset` / `DataLoader` at work using FashionMNIST dataset\n",
    "\n",
    "- Note that all `Dataset` objects includes 2 arguments; `transform` and `target_transform`\n",
    "    - This lets you transform any data you wish to load, and can take in anything from `torchvision.transforms`\n",
    "    - For example, if you want to rotate every picture in the dataset, you can pass in `RandomRotation`"
   ]
  },
  {
   "cell_type": "code",
   "execution_count": 1,
   "id": "bd3adbc0",
   "metadata": {},
   "outputs": [],
   "source": [
    "import torch\n",
    "from torch import nn\n",
    "from torch.utils.data import DataLoader\n",
    "from torchvision import datasets\n",
    "from torchvision.transforms import ToTensor"
   ]
  },
  {
   "cell_type": "code",
   "execution_count": 2,
   "id": "d7bc66da",
   "metadata": {},
   "outputs": [
    {
     "data": {
      "text/plain": [
       "(torch.Size([60000, 28, 28]),\n",
       " torch.Size([60000]),\n",
       " torch.Size([10000, 28, 28]),\n",
       " torch.Size([10000]))"
      ]
     },
     "execution_count": 2,
     "metadata": {},
     "output_type": "execute_result"
    }
   ],
   "source": [
    "# Download training data from open datasets.\n",
    "training_data = datasets.FashionMNIST(\n",
    "    root=\"data\",\n",
    "    train=True,\n",
    "    download=False,\n",
    "    transform=ToTensor()\n",
    ")\n",
    "\n",
    "# Download test data from open datasets.\n",
    "test_data = datasets.FashionMNIST(\n",
    "    root=\"data\",\n",
    "    train=False,\n",
    "    download=False,\n",
    "    transform=ToTensor(),\n",
    ")\n",
    "\n",
    "training_data.data.shape, training_data.targets.shape, test_data.data.shape, test_data.targets.shape"
   ]
  },
  {
   "cell_type": "markdown",
   "id": "c074addb",
   "metadata": {},
   "source": [
    "- After downloading the necessary data as a `Dataset`, we can wrap it into a `DataLoader`, which will conveniently help us batch the data later"
   ]
  },
  {
   "cell_type": "code",
   "execution_count": 3,
   "id": "22643fcb",
   "metadata": {},
   "outputs": [
    {
     "name": "stdout",
     "output_type": "stream",
     "text": [
      "Shape of X [N, C, H, W]: torch.Size([64, 1, 28, 28])\n",
      "Shape of y: torch.Size([64]) torch.int64\n"
     ]
    }
   ],
   "source": [
    "batch_size = 64\n",
    "\n",
    "train_dataloader = DataLoader(training_data, batch_size=batch_size)\n",
    "test_dataloader = DataLoader(test_data, batch_size=batch_size)\n",
    "\n",
    "for X, y in test_dataloader:\n",
    "    print(f\"Shape of X [N, C, H, W]: {X.shape}\")\n",
    "    print(f\"Shape of y: {y.shape} {y.dtype}\")\n",
    "    break"
   ]
  },
  {
   "cell_type": "markdown",
   "id": "645ef646",
   "metadata": {},
   "source": [
    "## Creating Models"
   ]
  },
  {
   "cell_type": "markdown",
   "id": "d008a862",
   "metadata": {},
   "source": [
    "- Any neural network in Pytorch can be defined as a class inheriting from `nn.Module`\n",
    "\n",
    "- Define the layers in `__init__`, and specify how the data passes through the network by defining a method called `forward()`\n",
    "\n",
    "- We can also speed up training by moving the operations to accelerators like CUDA, MPS, etc"
   ]
  },
  {
   "cell_type": "code",
   "execution_count": 5,
   "id": "809651f2",
   "metadata": {},
   "outputs": [
    {
     "name": "stdout",
     "output_type": "stream",
     "text": [
      "Using mps device\n"
     ]
    }
   ],
   "source": [
    "## Check for accelerator\n",
    "device = torch.accelerator.current_accelerator().type if torch.accelerator.is_available() else \"cpu\"\n",
    "print(f\"Using {device} device\")"
   ]
  },
  {
   "cell_type": "code",
   "execution_count": 7,
   "id": "6e8fd94d",
   "metadata": {},
   "outputs": [
    {
     "name": "stdout",
     "output_type": "stream",
     "text": [
      "SomeNNModel(\n",
      "  (flatten): Flatten(start_dim=1, end_dim=-1)\n",
      "  (linear_relu_stack): Sequential(\n",
      "    (0): Linear(in_features=784, out_features=512, bias=True)\n",
      "    (1): ReLU()\n",
      "    (2): Linear(in_features=512, out_features=512, bias=True)\n",
      "    (3): ReLU()\n",
      "    (4): Linear(in_features=512, out_features=10, bias=True)\n",
      "  )\n",
      ")\n"
     ]
    }
   ],
   "source": [
    "# Define model\n",
    "class SomeNNModel(nn.Module):\n",
    "    def __init__(self):\n",
    "        super().__init__()\n",
    "        self.flatten = nn.Flatten()\n",
    "        self.linear_relu_stack = nn.Sequential(\n",
    "            nn.Linear(28*28, 512),\n",
    "            nn.ReLU(),\n",
    "            nn.Linear(512, 512),\n",
    "            nn.ReLU(),\n",
    "            nn.Linear(512, 10)\n",
    "        )\n",
    "\n",
    "    def forward(self, x):\n",
    "        x = self.flatten(x) ##each image is 28x28; flatten will create a 1x784 tensor\n",
    "        logits = self.linear_relu_stack(x) ## 1x784 --> 512 --> 512 --> 10\n",
    "        return logits\n",
    "    \n",
    "model = SomeNNModel().to(device)\n",
    "print(model)"
   ]
  },
  {
   "cell_type": "markdown",
   "id": "7323a7d9",
   "metadata": {},
   "source": [
    "## Define training"
   ]
  },
  {
   "cell_type": "markdown",
   "id": "4d68dd49",
   "metadata": {},
   "source": [
    "- Obviously for training, we need a loss function and an optimiser"
   ]
  },
  {
   "cell_type": "code",
   "execution_count": 12,
   "id": "0822a46b",
   "metadata": {},
   "outputs": [],
   "source": [
    "loss_fn = nn.CrossEntropyLoss()\n",
    "optimizer = torch.optim.SGD(model.parameters(), lr=1e-3)"
   ]
  },
  {
   "cell_type": "markdown",
   "id": "043db79a",
   "metadata": {},
   "source": [
    "- Within a single loop, model does some prediction on a training dataset, and backpropagates the errors to the weights of the defined network\n",
    "- Note that we do batch gradient descent, so errors are propagated by batch"
   ]
  },
  {
   "cell_type": "code",
   "execution_count": 33,
   "id": "9938bd64",
   "metadata": {},
   "outputs": [],
   "source": [
    "def train(dataloader: DataLoader, model: nn.Module, loss_fn: nn.modules.loss._Loss, optimizer: torch.optim.Optimizer):\n",
    "    size = len(dataloader.dataset)\n",
    "    model.train()\n",
    "    for batch, (X, y) in enumerate(dataloader):\n",
    "        X, y = X.to(device), y.to(device)\n",
    "\n",
    "        # Compute prediction error\n",
    "        pred = model(X)\n",
    "        loss = loss_fn(pred, y)\n",
    "\n",
    "        # Backpropagation\n",
    "        loss.backward()\n",
    "        optimizer.step()\n",
    "        optimizer.zero_grad()\n",
    "\n",
    "        if batch % 100 == 0:\n",
    "            loss, current = loss.item(), (batch + 1) * len(X)\n",
    "            print(f\"loss: {loss:>7f}  [{current:>5d}/{size:>5d}]\")\n",
    "\n",
    "def test(dataloader: DataLoader, model: nn.Module, loss_fn: nn.modules.loss._Loss):\n",
    "    size: int = len(dataloader.dataset)\n",
    "    num_batches = len(dataloader)\n",
    "    model.eval()\n",
    "    test_loss, correct = 0, 0\n",
    "    with torch.no_grad():\n",
    "        for X, y in dataloader:\n",
    "            X, y = X.to(device), y.to(device)\n",
    "            pred = model(X)\n",
    "            test_loss += loss_fn(pred, y).item()\n",
    "            correct += (pred.argmax(1) == y).type(torch.float).sum().item()\n",
    "    test_loss /= num_batches\n",
    "    correct /= size\n",
    "    print(f\"Test Error: \\n Accuracy: {(100*correct):>0.1f}%, Avg loss: {test_loss:>8f} \\n\")"
   ]
  },
  {
   "cell_type": "code",
   "execution_count": 36,
   "id": "88a1dbad",
   "metadata": {},
   "outputs": [
    {
     "name": "stdout",
     "output_type": "stream",
     "text": [
      "Epoch 1\n",
      "-------------------------------\n",
      "loss: 0.649760  [   64/60000]\n",
      "loss: 0.757617  [ 6464/60000]\n",
      "loss: 0.517022  [12864/60000]\n",
      "loss: 0.755429  [19264/60000]\n",
      "loss: 0.669920  [25664/60000]\n",
      "loss: 0.648152  [32064/60000]\n",
      "loss: 0.728346  [38464/60000]\n",
      "loss: 0.720863  [44864/60000]\n",
      "loss: 0.719843  [51264/60000]\n",
      "loss: 0.686887  [57664/60000]\n",
      "Test Error: \n",
      " Accuracy: 76.2%, Avg loss: 0.676699 \n",
      "\n",
      "Epoch 2\n",
      "-------------------------------\n",
      "loss: 0.629107  [   64/60000]\n",
      "loss: 0.737519  [ 6464/60000]\n",
      "loss: 0.500381  [12864/60000]\n",
      "loss: 0.742416  [19264/60000]\n",
      "loss: 0.658399  [25664/60000]\n",
      "loss: 0.636207  [32064/60000]\n",
      "loss: 0.710728  [38464/60000]\n",
      "loss: 0.710921  [44864/60000]\n",
      "loss: 0.707912  [51264/60000]\n",
      "loss: 0.673307  [57664/60000]\n",
      "Test Error: \n",
      " Accuracy: 76.8%, Avg loss: 0.662816 \n",
      "\n",
      "Epoch 3\n",
      "-------------------------------\n",
      "loss: 0.610443  [   64/60000]\n",
      "loss: 0.718951  [ 6464/60000]\n",
      "loss: 0.485405  [12864/60000]\n",
      "loss: 0.730503  [19264/60000]\n",
      "loss: 0.648056  [25664/60000]\n",
      "loss: 0.625643  [32064/60000]\n",
      "loss: 0.694149  [38464/60000]\n",
      "loss: 0.701998  [44864/60000]\n",
      "loss: 0.697329  [51264/60000]\n",
      "loss: 0.660582  [57664/60000]\n",
      "Test Error: \n",
      " Accuracy: 77.5%, Avg loss: 0.650006 \n",
      "\n",
      "Epoch 4\n",
      "-------------------------------\n",
      "loss: 0.593413  [   64/60000]\n",
      "loss: 0.701870  [ 6464/60000]\n",
      "loss: 0.471735  [12864/60000]\n",
      "loss: 0.719499  [19264/60000]\n",
      "loss: 0.638769  [25664/60000]\n",
      "loss: 0.616265  [32064/60000]\n",
      "loss: 0.678606  [38464/60000]\n",
      "loss: 0.694036  [44864/60000]\n",
      "loss: 0.687904  [51264/60000]\n",
      "loss: 0.648659  [57664/60000]\n",
      "Test Error: \n",
      " Accuracy: 78.0%, Avg loss: 0.638177 \n",
      "\n",
      "Epoch 5\n",
      "-------------------------------\n",
      "loss: 0.577935  [   64/60000]\n",
      "loss: 0.686160  [ 6464/60000]\n",
      "loss: 0.459268  [12864/60000]\n",
      "loss: 0.709317  [19264/60000]\n",
      "loss: 0.630341  [25664/60000]\n",
      "loss: 0.607922  [32064/60000]\n",
      "loss: 0.664134  [38464/60000]\n",
      "loss: 0.687138  [44864/60000]\n",
      "loss: 0.679642  [51264/60000]\n",
      "loss: 0.637418  [57664/60000]\n",
      "Test Error: \n",
      " Accuracy: 78.3%, Avg loss: 0.627254 \n",
      "\n",
      "Done!\n"
     ]
    }
   ],
   "source": [
    "epochs = 5\n",
    "for t in range(epochs):\n",
    "    print(f\"Epoch {t+1}\\n-------------------------------\")\n",
    "    train(train_dataloader, model, loss_fn, optimizer)\n",
    "    test(test_dataloader, model, loss_fn)\n",
    "print(\"Done!\")"
   ]
  },
  {
   "cell_type": "markdown",
   "id": "e74d5948",
   "metadata": {},
   "source": [
    "## Save, Load, and Apply Models"
   ]
  },
  {
   "cell_type": "code",
   "execution_count": null,
   "id": "85a2ca58",
   "metadata": {},
   "outputs": [],
   "source": [
    "torch.save(model.state_dict(), \"model.pth\")\n",
    "print(\"Saved PyTorch Model State to model.pth\")"
   ]
  },
  {
   "cell_type": "code",
   "execution_count": null,
   "id": "8fc4d3e1",
   "metadata": {},
   "outputs": [],
   "source": [
    "model = SomeNNModel().to(device)\n",
    "model.load_state_dict(torch.load(\"model.pth\", weights_only=True))"
   ]
  },
  {
   "cell_type": "code",
   "execution_count": null,
   "id": "0cb12d7b",
   "metadata": {},
   "outputs": [],
   "source": [
    "classes = [\n",
    "    \"T-shirt/top\",\n",
    "    \"Trouser\",\n",
    "    \"Pullover\",\n",
    "    \"Dress\",\n",
    "    \"Coat\",\n",
    "    \"Sandal\",\n",
    "    \"Shirt\",\n",
    "    \"Sneaker\",\n",
    "    \"Bag\",\n",
    "    \"Ankle boot\",\n",
    "]\n",
    "\n",
    "model.eval()\n",
    "x, y = test_data[0][0], test_data[0][1]\n",
    "with torch.no_grad():\n",
    "    x = x.to(device)\n",
    "    pred = model(x)\n",
    "    predicted, actual = classes[pred[0].argmax(0)], classes[y]\n",
    "    print(f'Predicted: \"{predicted}\", Actual: \"{actual}\"')"
   ]
  }
 ],
 "metadata": {
  "kernelspec": {
   "display_name": ".venv",
   "language": "python",
   "name": "python3"
  },
  "language_info": {
   "codemirror_mode": {
    "name": "ipython",
    "version": 3
   },
   "file_extension": ".py",
   "mimetype": "text/x-python",
   "name": "python",
   "nbconvert_exporter": "python",
   "pygments_lexer": "ipython3",
   "version": "3.11.10"
  }
 },
 "nbformat": 4,
 "nbformat_minor": 5
}
