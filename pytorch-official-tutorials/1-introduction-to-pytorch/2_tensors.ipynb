{
 "cells": [
  {
   "cell_type": "markdown",
   "id": "7310866f",
   "metadata": {},
   "source": [
    "## Tensors"
   ]
  },
  {
   "cell_type": "markdown",
   "id": "48b84f1f",
   "metadata": {},
   "source": [
    "- Torch tensors basically share all the basic numpy array functionality (slicing, mutability, shape, etc), and for all intents and purposes you can treat a tensor like a numpy array"
   ]
  },
  {
   "cell_type": "code",
   "execution_count": 2,
   "id": "4bb86602",
   "metadata": {},
   "outputs": [],
   "source": [
    "import torch\n",
    "import numpy as np"
   ]
  },
  {
   "cell_type": "markdown",
   "id": "760b80f2",
   "metadata": {},
   "source": [
    "### Initialising a Tensor"
   ]
  },
  {
   "cell_type": "code",
   "execution_count": 15,
   "id": "212d2dda",
   "metadata": {},
   "outputs": [],
   "source": [
    "data = [[1, 2],[3, 4]]\n",
    "numpy_array = np.array(data)\n",
    "tensor_from_raw_data = torch.tensor(data)\n",
    "tensor_from_numpy_array = torch.tensor(numpy_array)\n",
    "tensor_from_another_tensor = torch.rand_like(tensor_from_numpy_array, dtype=torch.float) ## follows the shape of the provided tensor\n",
    "tensor_with_random_values_but_fixed_shape = torch.rand((2,2))\n",
    "tensor_with_ones_but_fixed_shape = torch.ones((2,2))\n",
    "tensor_with_zeroes_but_fixed_shape = torch.zeros((2,2))"
   ]
  },
  {
   "cell_type": "markdown",
   "id": "229cfc72",
   "metadata": {},
   "source": [
    "### Tensor Attributes"
   ]
  },
  {
   "cell_type": "markdown",
   "id": "75aba902",
   "metadata": {},
   "source": [
    "- Like a numpy array, a tensor has a `shape`, and a `dtype`\n",
    "- Unique to torch, a tensor also has a `device` attribute. This indicates where the tensor is stored. If you want to do training, make sure your tensors are on the right device (e.g. CUDA), or you won't get the speed up"
   ]
  },
  {
   "cell_type": "code",
   "execution_count": 19,
   "id": "2e856789",
   "metadata": {},
   "outputs": [
    {
     "data": {
      "text/plain": [
       "(torch.Size([2, 2]),\n",
       " torch.int64,\n",
       " device(type='cpu'),\n",
       " device(type='mps', index=0))"
      ]
     },
     "execution_count": 19,
     "metadata": {},
     "output_type": "execute_result"
    }
   ],
   "source": [
    "(\n",
    "    tensor_from_raw_data.shape\n",
    "    , tensor_from_raw_data.dtype\n",
    "    , tensor_from_raw_data.device\n",
    "    , tensor_from_raw_data.to(torch.accelerator.current_accelerator()).device\n",
    ")"
   ]
  },
  {
   "cell_type": "markdown",
   "id": "838b7a9e",
   "metadata": {},
   "source": [
    "### Tensor operations"
   ]
  },
  {
   "cell_type": "markdown",
   "id": "bda0903f",
   "metadata": {},
   "source": [
    "#### Slicing"
   ]
  },
  {
   "cell_type": "code",
   "execution_count": 54,
   "id": "eec40890",
   "metadata": {},
   "outputs": [
    {
     "data": {
      "text/plain": [
       "(tensor([1., 1., 1., 1.]), tensor([1., 1., 1., 1.]), tensor([1., 1., 1., 1.]))"
      ]
     },
     "execution_count": 54,
     "metadata": {},
     "output_type": "execute_result"
    }
   ],
   "source": [
    "tensor = torch.ones((4,4))\n",
    "first_row = tensor[0]\n",
    "first_col = tensor[:,0]\n",
    "last_col = tensor[:,-1]\n",
    "first_row, first_col, last_col"
   ]
  },
  {
   "cell_type": "markdown",
   "id": "00db6532",
   "metadata": {},
   "source": [
    "#### Reassignment"
   ]
  },
  {
   "cell_type": "code",
   "execution_count": 55,
   "id": "da61f2a8",
   "metadata": {},
   "outputs": [
    {
     "data": {
      "text/plain": [
       "tensor([[0., 1., 1., 1.],\n",
       "        [0., 1., 1., 1.],\n",
       "        [0., 1., 1., 1.],\n",
       "        [0., 1., 1., 1.]])"
      ]
     },
     "execution_count": 55,
     "metadata": {},
     "output_type": "execute_result"
    }
   ],
   "source": [
    "tensor[:, 0] = 0\n",
    "tensor"
   ]
  },
  {
   "cell_type": "markdown",
   "id": "e7ac9d48",
   "metadata": {},
   "source": [
    "#### Concatenation"
   ]
  },
  {
   "cell_type": "code",
   "execution_count": 56,
   "id": "04d598ee",
   "metadata": {},
   "outputs": [
    {
     "data": {
      "text/plain": [
       "tensor([[0., 1., 1., 1., 0., 1., 1., 1.],\n",
       "        [0., 1., 1., 1., 0., 1., 1., 1.],\n",
       "        [0., 1., 1., 1., 0., 1., 1., 1.],\n",
       "        [0., 1., 1., 1., 0., 1., 1., 1.]])"
      ]
     },
     "execution_count": 56,
     "metadata": {},
     "output_type": "execute_result"
    }
   ],
   "source": [
    "torch.cat([tensor, tensor], dim=0) ## dim=0 by default, rowwise concatenation\n",
    "torch.cat([tensor, tensor], dim=1) "
   ]
  },
  {
   "cell_type": "markdown",
   "id": "901d2420",
   "metadata": {},
   "source": [
    "#### Arithmetic Operations"
   ]
  },
  {
   "cell_type": "code",
   "execution_count": 57,
   "id": "ebaf4b3b",
   "metadata": {},
   "outputs": [],
   "source": [
    "tensor = torch.cat([torch.ones((1,4)), torch.ones((1,4))*2, torch.ones((1,4))*3, torch.ones((1,4))*4])\n",
    "\n",
    "matmul1 = tensor @ tensor.T\n",
    "matmul2 = tensor.matmul(tensor.T)\n",
    "assert torch.equal(matmul1, matmul2)\n",
    "\n",
    "element_product1 = tensor * tensor\n",
    "element_product2 = tensor.mul(tensor)\n",
    "assert torch.equal(element_product1, element_product2)"
   ]
  },
  {
   "cell_type": "markdown",
   "id": "a0553971",
   "metadata": {},
   "source": [
    "#### Retrieve value in single element tensor"
   ]
  },
  {
   "cell_type": "code",
   "execution_count": 58,
   "id": "f6615891",
   "metadata": {},
   "outputs": [
    {
     "data": {
      "text/plain": [
       "40.0"
      ]
     },
     "execution_count": 58,
     "metadata": {},
     "output_type": "execute_result"
    }
   ],
   "source": [
    "tensor = torch.cat([torch.ones((1,4)), torch.ones((1,4))*2, torch.ones((1,4))*3, torch.ones((1,4))*4])\n",
    "# tensor.item() ##Error, because tensor has multiple elements\n",
    "tensor.sum().item()"
   ]
  },
  {
   "cell_type": "markdown",
   "id": "e1d0f005",
   "metadata": {},
   "source": [
    "#### In-place tensor operations"
   ]
  },
  {
   "cell_type": "code",
   "execution_count": 59,
   "id": "03adfdb8",
   "metadata": {},
   "outputs": [
    {
     "data": {
      "text/plain": [
       "tensor([[2., 2., 2., 2.],\n",
       "        [3., 3., 3., 3.],\n",
       "        [4., 4., 4., 4.],\n",
       "        [5., 5., 5., 5.]])"
      ]
     },
     "execution_count": 59,
     "metadata": {},
     "output_type": "execute_result"
    }
   ],
   "source": [
    "tensor = torch.cat([torch.ones((1,4)), torch.ones((1,4))*2, torch.ones((1,4))*3, torch.ones((1,4))*4])\n",
    "tensor.add_(1)"
   ]
  },
  {
   "cell_type": "markdown",
   "id": "24332646",
   "metadata": {},
   "source": [
    "### Torch tensors <--> Numpy Interoperability"
   ]
  },
  {
   "cell_type": "markdown",
   "id": "3fb1427f",
   "metadata": {},
   "source": [
    "- Torch tensors are interoperable with numpy via numpy bridge\n",
    "\n",
    "- WITH 1 BIG CAVEAT: when \"converting\" from torch tensor to numpy array, you are not actually making a copy. Instead, you create 2 pointers that point to the same data location in memory"
   ]
  },
  {
   "cell_type": "code",
   "execution_count": 65,
   "id": "eeefade8",
   "metadata": {},
   "outputs": [],
   "source": [
    "torch_tensor = torch.rand((2,5))"
   ]
  },
  {
   "cell_type": "code",
   "execution_count": 66,
   "id": "e5ff2bf9",
   "metadata": {},
   "outputs": [
    {
     "data": {
      "text/plain": [
       "(array([[0.8206627 , 0.0058443 , 0.47440398, 0.5105605 , 0.7457159 ],\n",
       "        [0.9837789 , 0.5171297 , 0.29087025, 0.90522856, 0.567249  ]],\n",
       "       dtype=float32),\n",
       " tensor([[0.8207, 0.0058, 0.4744, 0.5106, 0.7457],\n",
       "         [0.9838, 0.5171, 0.2909, 0.9052, 0.5672]]))"
      ]
     },
     "execution_count": 66,
     "metadata": {},
     "output_type": "execute_result"
    }
   ],
   "source": [
    "tensor_to_numpy = torch_tensor.numpy() \n",
    "numpy_to_tensor = torch.from_numpy(tensor_to_numpy)\n",
    "\n",
    "tensor_to_numpy, numpy_to_tensor"
   ]
  },
  {
   "cell_type": "code",
   "execution_count": 67,
   "id": "db9b40da",
   "metadata": {},
   "outputs": [
    {
     "data": {
      "text/plain": [
       "(array([[0.        , 0.        , 0.        , 0.        , 0.        ],\n",
       "        [0.9837789 , 0.5171297 , 0.29087025, 0.90522856, 0.567249  ]],\n",
       "       dtype=float32),\n",
       " tensor([[0.0000, 0.0000, 0.0000, 0.0000, 0.0000],\n",
       "         [0.9838, 0.5171, 0.2909, 0.9052, 0.5672]]))"
      ]
     },
     "execution_count": 67,
     "metadata": {},
     "output_type": "execute_result"
    }
   ],
   "source": [
    "torch_tensor[0] = 0\n",
    "tensor_to_numpy, numpy_to_tensor"
   ]
  }
 ],
 "metadata": {
  "kernelspec": {
   "display_name": ".venv",
   "language": "python",
   "name": "python3"
  },
  "language_info": {
   "codemirror_mode": {
    "name": "ipython",
    "version": 3
   },
   "file_extension": ".py",
   "mimetype": "text/x-python",
   "name": "python",
   "nbconvert_exporter": "python",
   "pygments_lexer": "ipython3",
   "version": "3.11.10"
  }
 },
 "nbformat": 4,
 "nbformat_minor": 5
}
