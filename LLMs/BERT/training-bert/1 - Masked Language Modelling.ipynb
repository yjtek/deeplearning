{
 "cells": [
  {
   "cell_type": "markdown",
   "id": "e8dccfe1",
   "metadata": {},
   "source": [
    "# Masked Langauge Modelling (MLM)"
   ]
  },
  {
   "cell_type": "markdown",
   "id": "4926a43b",
   "metadata": {},
   "source": [
    "https://www.youtube.com/watch?v=q9NS5WpfkrU"
   ]
  },
  {
   "cell_type": "markdown",
   "id": "9bd72d56",
   "metadata": {},
   "source": [
    "- MLM is one of the tasks that the BERT transformers are trained on"
   ]
  },
  {
   "cell_type": "markdown",
   "id": "d5c15ad4",
   "metadata": {},
   "source": [
    "## Basic Idea"
   ]
  },
  {
   "cell_type": "markdown",
   "id": "1c30f5dd",
   "metadata": {},
   "source": [
    "- You have some input sentence \"The quick brown fox jumps over the lazy dog\"\n",
    "\n",
    "- Post tokenization, your sentence will look like an array of integers \n",
    "\n",
    "- Of these integers, select a proportion to mask. That means: replace a random proportion of integers with a fixed integer representing \"[MASK]\". BERT replaces ~15% of tokens this way\n",
    "\n",
    "- Then, your loss function function is simply the cross entropy loss over the masked tokens\n",
    "\n",
    "$$\\begin{aligned}\n",
    "    \\mathcal{L} &= - \\sum_{i \\in \\text{mask index}} \\log (P(x_i | x_{\\text{mask}}))\n",
    "\\end{aligned}$$"
   ]
  },
  {
   "cell_type": "markdown",
   "id": "1de2548d",
   "metadata": {},
   "source": [
    "## BERT Architecture"
   ]
  },
  {
   "cell_type": "markdown",
   "id": "a96ba747",
   "metadata": {},
   "source": []
  }
 ],
 "metadata": {
  "language_info": {
   "name": "python"
  }
 },
 "nbformat": 4,
 "nbformat_minor": 5
}
